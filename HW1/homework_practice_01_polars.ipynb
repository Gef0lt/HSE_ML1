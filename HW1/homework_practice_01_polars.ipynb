{
 "cells": [
  {
   "cell_type": "markdown",
   "metadata": {
    "id": "qT4lcRBz3JKd"
   },
   "source": [
    "## Машинное обучение 1, ПМИ ФКН ВШЭ\n",
    "\n",
    "## Практическое домашнее задание 1\n",
    "\n",
    "### Общая информация\n",
    "\n",
    "Дата выдачи: 15.09.2025\n",
    "\n",
    "Мягкий дедлайн: 23:59MSK 29.09.2025\n",
    "\n",
    "Жесткий дедлайн: 23:59MSK 03.10.2025"
   ]
  },
  {
   "cell_type": "markdown",
   "metadata": {
    "id": "UzmZAvdT3JKf"
   },
   "source": [
    "### О задании\n",
    "\n",
    "Задание состоит из двух разделов, посвященных работе с табличными данными с помощью библиотеки `polars` и визуализации с помощью `matplotlib`. В первом разделе вам предстоит выполнить базовые задания с помощью вышеуказанных библиотек, а во втором распределить студентов по курсам. Баллы даются за выполнение отдельных пунктов. Задачи в рамках одного раздела рекомендуется решать в том порядке, в котором они даны в задании.\n",
    "\n",
    "Задание направлено на освоение jupyter notebook (будет использоваться в дальнейших заданиях), библиотек `polars` и `matplotlib`.\n",
    "\n",
    "### Оценивание и штрафы\n",
    "Каждая из задач имеет определенную «стоимость» (указана в скобках около задачи). Максимально допустимая оценка за работу — 10 баллов без учёта бонусов. Сдавать задание после жёсткого дедлайна нельзя.\n",
    "\n",
    "Задание выполняется самостоятельно. «Похожие» решения считаются плагиатом и все задействованные студенты (в том числе те, у кого списали) не могут получить за него больше 0 баллов (подробнее о плагиате см. на странице курса). Если вы нашли решение какого-то из заданий (или его часть) в открытом источнике, необходимо указать ссылку на этот источник (скорее всего вы будете не единственным, кто это нашел, поэтому чтобы исключить подозрение в плагиате, необходима ссылка на источник).\n",
    "\n",
    "### Формат сдачи\n",
    "Задания сдаются через систему Anytask. Инвайт можно получить у семинариста или ассистента. Присылать необходимо ноутбук с выполненным заданием. Сам ноутбук называйте в формате `homework-practice-01-polars-Username.ipynb`, где Username — ваша фамилия.\n",
    "\n",
    "Для удобства проверки самостоятельно посчитайте свою максимальную оценку (исходя из набора решенных задач) и укажите ниже.\n",
    "\n",
    "Оценка: xx."
   ]
  },
  {
   "cell_type": "markdown",
   "metadata": {
    "id": "bQMq9hxz3JKg"
   },
   "source": [
    "## 0. Введение"
   ]
  },
  {
   "cell_type": "markdown",
   "metadata": {
    "id": "rDm3xw-Y3JKg"
   },
   "source": [
    "Сейчас мы находимся в jupyter-ноутбуке (или ipython-ноутбуке). Это удобная среда для написания кода, проведения экспериментов, изучения данных, построения визуализаций и других нужд, не связанных с написанием production-кода.\n",
    "\n",
    "Ноутбук состоит из ячеек, каждая из которых может быть либо ячейкой с кодом, либо ячейкой с текстом размеченным и неразмеченным. Текст поддерживает markdown-разметку и формулы в Latex.\n",
    "\n",
    "Для работы с содержимым ячейки используется *режим редактирования* (*Edit mode*, включается нажатием клавиши **Enter** после выбора ячейки), а для навигации между ячейками искользуется *командный режим* (*Command mode*, включается нажатием клавиши **Esc**). Тип ячейки можно задать в командном режиме либо с помощью горячих клавиш (**y** to code, **m** to markdown, **r** to edit raw text), либо в меню *Cell -> Cell type*.\n",
    "\n",
    "После заполнения ячейки нужно нажать *Shift + Enter*, эта команда обработает содержимое ячейки: проинтерпретирует код или сверстает размеченный текст."
   ]
  },
  {
   "cell_type": "code",
   "metadata": {
    "id": "OEmmbrlv3JKh",
    "ExecuteTime": {
     "end_time": "2025-09-16T16:42:31.373686Z",
     "start_time": "2025-09-16T16:42:31.369370Z"
    }
   },
   "source": [
    "# ячейка с кодом, при выполнении которой появится output\n",
    "2 + 2"
   ],
   "outputs": [
    {
     "data": {
      "text/plain": [
       "4"
      ]
     },
     "execution_count": 1,
     "metadata": {},
     "output_type": "execute_result"
    }
   ],
   "execution_count": 1
  },
  {
   "cell_type": "markdown",
   "metadata": {
    "id": "pHuI1gxN3JKi"
   },
   "source": [
    "Ячейка с неразмеченным текстом."
   ]
  },
  {
   "cell_type": "markdown",
   "metadata": {
    "id": "7Od1jM9q3JKi"
   },
   "source": [
    "Попробуйте создать свои ячейки, написать какой-нибудь код и текст какой-нибудь формулой."
   ]
  },
  {
   "cell_type": "code",
   "metadata": {
    "id": "bmR2-3Ut3JKi",
    "ExecuteTime": {
     "end_time": "2025-09-16T16:42:31.376379Z",
     "start_time": "2025-09-16T16:42:31.374687Z"
    }
   },
   "source": [
    "# your code"
   ],
   "outputs": [],
   "execution_count": 2
  },
  {
   "cell_type": "markdown",
   "metadata": {
    "id": "eNSsZ84J3JKj"
   },
   "source": [
    "[Здесь](https://athena.brynmawr.edu/jupyter/hub/dblank/public/Jupyter%20Notebook%20Users%20Manual.ipynb) находится <s>не</s>большая заметка о используемом языке разметки Markdown. Он позволяет:\n",
    "\n",
    "0. Составлять упорядоченные списки\n",
    "1. Выделять *текст* <s>при</s> **необходимости**\n",
    "2. Добавлять [ссылки](http://imgs.xkcd.com/comics/the_universal_label.png)\n",
    "\n",
    "\n",
    "* Составлять неупорядоченные списки\n",
    "\n",
    "Делать вставки с помощью LaTex:\n",
    "    \n",
    "$\n",
    "\\left\\{\n",
    "\\begin{array}{ll}\n",
    "x = 16 \\sin^3 (t) \\\\\n",
    "y = 13 \\cos (t) - 5 \\cos (2t) - 2 \\cos (3t) - \\cos (4t) \\\\\n",
    "t \\in [0, 2 \\pi]\n",
    "\\end{array}\n",
    "\\right.$"
   ]
  },
  {
   "cell_type": "markdown",
   "metadata": {
    "id": "lmR9WkMh3JKj"
   },
   "source": [
    "А ещё можно вставлять картинки, или гифки, или что захотите:\n",
    "\n",
    "<img src=\"https://i.imgur.com/k5df8lX.gif\" width=\"400px\">\n",
    "\n"
   ]
  },
  {
   "cell_type": "markdown",
   "metadata": {
    "id": "dPLYl66y3JKj"
   },
   "source": [
    "### Google Colab"
   ]
  },
  {
   "cell_type": "markdown",
   "metadata": {
    "id": "A4lqG21G3JKj"
   },
   "source": [
    "Что за колаб?\n",
    "\n",
    "**Google Colab (Colaboratory)** это **Jupyter Notebook + Cloud + Google Drive.**\n",
    "\n",
    "Компания Google предоставляет возможность бесплатно запускать ноутбуки (предварительно загрузив их на свой гугл-диск) прямо в облаке. При этом вам не требуется установка никаких пакетов на свою машину, а работать можно прямиком из браузера. Вот ссылка:"
   ]
  },
  {
   "cell_type": "markdown",
   "metadata": {
    "id": "79bVOFY_3JKj"
   },
   "source": [
    "https://colab.research.google.com"
   ]
  },
  {
   "cell_type": "markdown",
   "metadata": {
    "id": "LnMoUH2P3JKj"
   },
   "source": [
    "При использовании вы увидите много сходств с jupyter ноутбуком. Одним из преимуществ является доступность GPU, соответствующую опцию можно активировать в настройках сервиса. При желании вы сможете найти в интернете много туториалов по использованию или разобраться самостоятельно =)"
   ]
  },
  {
   "cell_type": "markdown",
   "metadata": {
    "id": "iAb44N3VjD11"
   },
   "source": [
    "### Kaggle\n",
    "\n",
    "Альтернативой является **Kaggle**, он же площадка для самых разных соревнований по машинному обучению\n",
    "\n",
    "Он, как и колаб, предоставляет бесплатный GPU, и даже не один, с чётким лимитом в 30 часов в неделю (colab может его внезапно отобрать, kaggle - нет) более мощные CPU с большим числом ядер, и больше Гб ОЗУ (раз так в 2.5)\n",
    "\n",
    "https://www.kaggle.com\n",
    "\n",
    "К сожалению мир не идеален, недостатки следующие:\n",
    "- необходимость загружать датасеты через специальную кнопочку\n",
    "- невозможность использовать свои скрипты и модули :(\n",
    "- нужно тыкать техподдержку, чтобы создать аккаунт из России"
   ]
  },
  {
   "cell_type": "markdown",
   "metadata": {
    "id": "91bWX9jd3JKk"
   },
   "source": [
    "## 1. Табличные данные и Polars [4 балла]"
   ]
  },
  {
   "cell_type": "markdown",
   "metadata": {
    "id": "Z9L3rKBm3JKk"
   },
   "source": [
    "Сперва повторим, почему `polars` такой клёвый, если вы не были на семинаре, либо не хотите с ним ознакомиться\n",
    "\n",
    "Эта версия домашки предполагает, что вы уже являетесь уверенным пользователем `pandas` и знакомы с датафреймами, как они устроены и как ими манипулировать. Библиотека `polars` основана на тех же концептах.\n",
    "\n",
    "Главные достоинства, которые чуть позже продемонстрируем:\n",
    "- он написан на Rust, поэтому почти все операции в нём выполняются значительно быстрее, есть распараллеливание из коробки, автоматическая оптимизация запросов и пр\n",
    "- он позволяет работать с данными, которые не помещаются в оперативку, с этим поможет `pl.LazyFrame` и параметр `engine`/`streaming`\n",
    "- конечно же имеются дополнительные функции, которых в `pandas` нет, но очень хочется, например агрегации с расширяющимся окном, произвольные оконные функции и прочее, для этого есть крайне гибкая штука `pl.Expr`\n",
    "\n",
    "Подробнее можете прочитать на [любом](https://habr.com/ru/articles/710240/) [ресурсе](https://realpython.com/polars-python/), [посвящённом](https://blog.jetbrains.com/pycharm/2024/07/polars-vs-pandas/) [`polars`](https://habr.com/ru/companies/spectr/articles/738766/)\n",
    "\n",
    "В этой части потребуется выполнить несколько небольших заданий. Можно пойти двумя путями: сначала изучить материалы, а потом приступить к заданиям, или же разбираться \"по ходу\". Выбирайте сами\n",
    "\n",
    "Если не понятно, как вызывать конкретный метод, обратитесь к материалам ниже. Имейте в виду, что синтаксис `polars` отличается от привычного нампаевского.\n",
    "Скорее всего все ваши самые извращённые фантазии уже как-то реализованы в `polars`, поэтому читайте внимательно. Ну и конечно гуглить не запрещено, но желательно прикладывать источник\n",
    "\n",
    "Материалы:\n",
    "1. [Getting started](https://docs.pola.rs/user-guide/getting-started/#reading-writing) из официального руководства\n",
    "2. [Документация](https://docs.pola.rs/api/python/stable/reference/index.html) со всем необходимым\n",
    "3. [Модификация для Data Science](https://polars-ds-extension.readthedocs.io/en/latest/index.html), вам скорее всего не понадобится в данном задании, но имейте в виду\n",
    "\n",
    "Многие из заданий можно выполнить несколькими способами. Не существуют единственно верного, но попробуйте максимально задействовать арсенал polars и ориентируйтесь на простоту и понятность вашего кода. Мы не будем подсказывать, что нужно использовать для решения конкретной задачи, попробуйте находить необходимый функционал сами (название метода чаще всего очевидно)"
   ]
  },
  {
   "cell_type": "code",
   "metadata": {
    "id": "TwYQ-X_Q-m2A",
    "colab": {
     "base_uri": "https://localhost:8080/"
    },
    "outputId": "09de172a-67ba-4068-e220-a4cd326dbab8",
    "ExecuteTime": {
     "end_time": "2025-09-16T17:37:35.364303Z",
     "start_time": "2025-09-16T17:37:32.967266Z"
    }
   },
   "source": [
    "# поларс относительно молодой, имейте в виду, что что-то может сломаться, если будете менять версию\n",
    "!pip install -qU hvplot xlsx2csv polars"
   ],
   "outputs": [],
   "execution_count": 13
  },
  {
   "cell_type": "code",
   "metadata": {
    "id": "72smvZpD3JKk",
    "ExecuteTime": {
     "end_time": "2025-09-16T17:37:36.410951Z",
     "start_time": "2025-09-16T17:37:36.409047Z"
    }
   },
   "source": [
    "import polars as pl\n",
    "import gc"
   ],
   "outputs": [],
   "execution_count": 14
  },
  {
   "cell_type": "markdown",
   "metadata": {
    "id": "hX2zRkMI3JKk"
   },
   "source": [
    "Скачаем данные:"
   ]
  },
  {
   "cell_type": "code",
   "metadata": {
    "id": "a4wqrhEA3JKk",
    "ExecuteTime": {
     "end_time": "2025-09-16T17:37:38.865074Z",
     "start_time": "2025-09-16T17:37:38.742409Z"
    }
   },
   "source": [
    "!wget  -O 'end_seminar.xlsx' -q 'https://www.dropbox.com/scl/fi/2ezfw6b3y1umremflbgdl/end_seminar.xlsx?rlkey=xzecol82ybnpu0eon0b1s11pp&st=f45sugvp&dl=0'"
   ],
   "outputs": [
    {
     "name": "stdout",
     "output_type": "stream",
     "text": [
      "zsh:1: command not found: wget\r\n"
     ]
    }
   ],
   "execution_count": 15
  },
  {
   "cell_type": "markdown",
   "metadata": {
    "id": "joackhzP3JKl"
   },
   "source": [
    "Для пользователей Windows: скачайте файл самостоятельно и поместите его в папку с тетрадкой. Или попробуйте один из следующих вариантов:"
   ]
  },
  {
   "cell_type": "code",
   "metadata": {
    "id": "yhc9NUeE3JKl",
    "ExecuteTime": {
     "end_time": "2025-09-16T16:44:24.881491Z",
     "start_time": "2025-09-16T16:44:24.878122Z"
    }
   },
   "source": [
    "# !powershell iwr -outf somefile https://somesite/somefile"
   ],
   "outputs": [],
   "execution_count": 6
  },
  {
   "cell_type": "code",
   "metadata": {
    "id": "FxbRPi183JKl",
    "ExecuteTime": {
     "end_time": "2025-09-16T16:44:24.886078Z",
     "start_time": "2025-09-16T16:44:24.883124Z"
    }
   },
   "source": [
    "# !pip install wget\n",
    "# import wget\n",
    "# wget.download('https://www.dropbox.com/scl/fi/2ezfw6b3y1umremflbgdl/end_seminar.xlsx?rlkey=xzecol82ybnpu0eon0b1s11pp&st=f45sugvp&dl=0', 'end_seminar.xlsx')"
   ],
   "outputs": [],
   "execution_count": 7
  },
  {
   "cell_type": "markdown",
   "metadata": {
    "id": "5hIwLXz43JKl"
   },
   "source": [
    "### 📌 **Обязательно прочитайте блок ниже**\n",
    "\n",
    "> Пандасом и нампаем пользоваться неельзяя... Совсем, методами `to_pandas()` и `to_numpy()` тоже\n",
    "\n",
    "> В первой части задания (до раздела \"Распределение студентов по курсам\") использование циклов запрещается и повлечет за собой снижение оценки. Во второй уже можно, но с оговорками, о чём ниже\n",
    "\n",
    "> Циклами в данном случае считается `for`, `while` и `map`-методы `polars`, где можно использовать лямбда-функцию. Главным образом `map_elements` и его аналоги.\n",
    "И как правило, всё то, что не умеет делать `pl.LazyFrame` - список [здесь](https://docs.pola.rs/api/python/stable/reference/lazyframe/index.html). Мотивация следующая - используя встроенные функции и методы, `polars` может оптимизировать ваш запрос и провести все нужные манипуляции, прежде чем сериализовать и вывести ответ (за некоторыми исключениями), поэтому важно научиться с этим управляться\n",
    "\n",
    "> Чтобы сделать выбор `polars` осмысленным, мы немножко модифицируем исходный датасет. Он будет больше в несколько раз и может не влезть в память, если у вас меньше 8 Гб, а с учётом преобразований может потребоваться до 64 Гб! Не пренебрегайте возможностями `pl.LazyFrame`. Его использование не обязательно, но может сильно облегчить вам жизнь\n",
    "\n",
    "> Трансформировать датасет `df` можно, как только это потребуется по условию (таких пунктов всего 2), на всякий случай поставим значок 🔄\n",
    "\n",
    "> Если небрежно обращаться с методами `polars`, вы рискуете крашнуть ядро, взорвать компутер, потерять рассудок... Если вдруг у вас есть тачка или хотите подебажить на исходном датасете, то пожалуйста, но помните про условия выше. В частности, при работе в колабе после ряда пунктов может остаться всякий мусор, не забывайте убирать за собой и пользоваться `gc.collect()`\n",
    "\n",
    "> Все, что не запрещено выше, разрешено\n",
    "\n",
    "> Гарантируется, что задание можно выполнить, имея лишь ресурсы Google Colab (бесплатные), удачи ( ͡° ͜ʖ ͡°)"
   ]
  },
  {
   "cell_type": "markdown",
   "metadata": {
    "id": "das_ZBWy3JKl"
   },
   "source": [
    "Для каждой задачи из этого раздела вы должны написать код для получения ответа, а также дать текстовый ответ, если он предполагается.\n",
    "\n",
    "На некоторые вопросы вы можете получить путём пристального взгляда на таблицу, но это не будет засчитываться. Вы в любом случае должны получить ответ с помощью кода."
   ]
  },
  {
   "cell_type": "markdown",
   "source": [
    "### 🐻 Бонус polars. [1.5 балла]\n",
    "Бонус за использование `polars` равен вашей оценке за дз, умноженной на коэффициент 1.15, не считая бонуса за отсутствие циклов, он прибавляется отдельно. Поэтому даже если сделали не всё, не отчаивайтесь!\n",
    "\n",
    "**Максимальная оценка за дз - 10 * 1.15 (polars) + 1 (бонус без циклов)**"
   ],
   "metadata": {
    "id": "7L9UmKvHSBhk"
   }
  },
  {
   "cell_type": "markdown",
   "metadata": {
    "id": "KH2B5XPBDlgp"
   },
   "source": [
    "#### 0. Ещё пара красивых слов"
   ]
  },
  {
   "cell_type": "markdown",
   "metadata": {
    "id": "-pO9LsL5Dsds"
   },
   "source": [
    "Первые несколько манипуляций мы сделаем за вас, а заодно поясним, в чём тут нюанс"
   ]
  },
  {
   "cell_type": "code",
   "metadata": {
    "colab": {
     "base_uri": "https://localhost:8080/"
    },
    "id": "Ee0QXmptDrX7",
    "outputId": "85c61d53-7a06-4163-a13b-75ba05745ac9",
    "ExecuteTime": {
     "end_time": "2025-09-16T16:44:25.337153Z",
     "start_time": "2025-09-16T16:44:24.887139Z"
    }
   },
   "source": [
    "# читаем датафрейм\n",
    "initial_df = pl.read_excel(\"end_seminar.xlsx\", engine=\"xlsx2csv\")\n",
    "print(initial_df.shape[0], \"rows\")\n",
    "print(initial_df.estimated_size(\"mb\"), \"mb\")"
   ],
   "outputs": [
    {
     "ename": "FileNotFoundError",
     "evalue": "no workbook found at path 'end_seminar.xlsx'",
     "output_type": "error",
     "traceback": [
      "\u001B[0;31m---------------------------------------------------------------------------\u001B[0m",
      "\u001B[0;31mFileNotFoundError\u001B[0m                         Traceback (most recent call last)",
      "Cell \u001B[0;32mIn[8], line 2\u001B[0m\n\u001B[1;32m      1\u001B[0m \u001B[38;5;66;03m# читаем датафрейм\u001B[39;00m\n\u001B[0;32m----> 2\u001B[0m initial_df \u001B[38;5;241m=\u001B[39m pl\u001B[38;5;241m.\u001B[39mread_excel(\u001B[38;5;124m\"\u001B[39m\u001B[38;5;124mend_seminar.xlsx\u001B[39m\u001B[38;5;124m\"\u001B[39m, engine\u001B[38;5;241m=\u001B[39m\u001B[38;5;124m\"\u001B[39m\u001B[38;5;124mxlsx2csv\u001B[39m\u001B[38;5;124m\"\u001B[39m)\n\u001B[1;32m      3\u001B[0m \u001B[38;5;28mprint\u001B[39m(initial_df\u001B[38;5;241m.\u001B[39mshape[\u001B[38;5;241m0\u001B[39m], \u001B[38;5;124m\"\u001B[39m\u001B[38;5;124mrows\u001B[39m\u001B[38;5;124m\"\u001B[39m)\n\u001B[1;32m      4\u001B[0m \u001B[38;5;28mprint\u001B[39m(initial_df\u001B[38;5;241m.\u001B[39mestimated_size(\u001B[38;5;124m\"\u001B[39m\u001B[38;5;124mmb\u001B[39m\u001B[38;5;124m\"\u001B[39m), \u001B[38;5;124m\"\u001B[39m\u001B[38;5;124mmb\u001B[39m\u001B[38;5;124m\"\u001B[39m)\n",
      "File \u001B[0;32m~/miniconda3/lib/python3.12/site-packages/polars/_utils/deprecation.py:128\u001B[0m, in \u001B[0;36mdeprecate_renamed_parameter.<locals>.decorate.<locals>.wrapper\u001B[0;34m(*args, **kwargs)\u001B[0m\n\u001B[1;32m    123\u001B[0m \u001B[38;5;129m@wraps\u001B[39m(function)\n\u001B[1;32m    124\u001B[0m \u001B[38;5;28;01mdef\u001B[39;00m \u001B[38;5;21mwrapper\u001B[39m(\u001B[38;5;241m*\u001B[39margs: P\u001B[38;5;241m.\u001B[39margs, \u001B[38;5;241m*\u001B[39m\u001B[38;5;241m*\u001B[39mkwargs: P\u001B[38;5;241m.\u001B[39mkwargs) \u001B[38;5;241m-\u001B[39m\u001B[38;5;241m>\u001B[39m T:\n\u001B[1;32m    125\u001B[0m     _rename_keyword_argument(\n\u001B[1;32m    126\u001B[0m         old_name, new_name, kwargs, function\u001B[38;5;241m.\u001B[39m\u001B[38;5;18m__qualname__\u001B[39m, version\n\u001B[1;32m    127\u001B[0m     )\n\u001B[0;32m--> 128\u001B[0m     \u001B[38;5;28;01mreturn\u001B[39;00m function(\u001B[38;5;241m*\u001B[39margs, \u001B[38;5;241m*\u001B[39m\u001B[38;5;241m*\u001B[39mkwargs)\n",
      "File \u001B[0;32m~/miniconda3/lib/python3.12/site-packages/polars/_utils/deprecation.py:128\u001B[0m, in \u001B[0;36mdeprecate_renamed_parameter.<locals>.decorate.<locals>.wrapper\u001B[0;34m(*args, **kwargs)\u001B[0m\n\u001B[1;32m    123\u001B[0m \u001B[38;5;129m@wraps\u001B[39m(function)\n\u001B[1;32m    124\u001B[0m \u001B[38;5;28;01mdef\u001B[39;00m \u001B[38;5;21mwrapper\u001B[39m(\u001B[38;5;241m*\u001B[39margs: P\u001B[38;5;241m.\u001B[39margs, \u001B[38;5;241m*\u001B[39m\u001B[38;5;241m*\u001B[39mkwargs: P\u001B[38;5;241m.\u001B[39mkwargs) \u001B[38;5;241m-\u001B[39m\u001B[38;5;241m>\u001B[39m T:\n\u001B[1;32m    125\u001B[0m     _rename_keyword_argument(\n\u001B[1;32m    126\u001B[0m         old_name, new_name, kwargs, function\u001B[38;5;241m.\u001B[39m\u001B[38;5;18m__qualname__\u001B[39m, version\n\u001B[1;32m    127\u001B[0m     )\n\u001B[0;32m--> 128\u001B[0m     \u001B[38;5;28;01mreturn\u001B[39;00m function(\u001B[38;5;241m*\u001B[39margs, \u001B[38;5;241m*\u001B[39m\u001B[38;5;241m*\u001B[39mkwargs)\n",
      "File \u001B[0;32m~/miniconda3/lib/python3.12/site-packages/polars/io/spreadsheet/functions.py:401\u001B[0m, in \u001B[0;36mread_excel\u001B[0;34m(source, sheet_id, sheet_name, table_name, engine, engine_options, read_options, has_header, columns, schema_overrides, infer_schema_length, include_file_paths, drop_empty_rows, drop_empty_cols, raise_if_empty)\u001B[0m\n\u001B[1;32m    239\u001B[0m \u001B[38;5;129m@deprecate_renamed_parameter\u001B[39m(\u001B[38;5;124m\"\u001B[39m\u001B[38;5;124mxlsx2csv_options\u001B[39m\u001B[38;5;124m\"\u001B[39m, \u001B[38;5;124m\"\u001B[39m\u001B[38;5;124mengine_options\u001B[39m\u001B[38;5;124m\"\u001B[39m, version\u001B[38;5;241m=\u001B[39m\u001B[38;5;124m\"\u001B[39m\u001B[38;5;124m0.20.6\u001B[39m\u001B[38;5;124m\"\u001B[39m)\n\u001B[1;32m    240\u001B[0m \u001B[38;5;129m@deprecate_renamed_parameter\u001B[39m(\u001B[38;5;124m\"\u001B[39m\u001B[38;5;124mread_csv_options\u001B[39m\u001B[38;5;124m\"\u001B[39m, \u001B[38;5;124m\"\u001B[39m\u001B[38;5;124mread_options\u001B[39m\u001B[38;5;124m\"\u001B[39m, version\u001B[38;5;241m=\u001B[39m\u001B[38;5;124m\"\u001B[39m\u001B[38;5;124m0.20.7\u001B[39m\u001B[38;5;124m\"\u001B[39m)\n\u001B[1;32m    241\u001B[0m \u001B[38;5;28;01mdef\u001B[39;00m \u001B[38;5;21mread_excel\u001B[39m(\n\u001B[0;32m   (...)\u001B[0m\n\u001B[1;32m    257\u001B[0m     raise_if_empty: \u001B[38;5;28mbool\u001B[39m \u001B[38;5;241m=\u001B[39m \u001B[38;5;28;01mTrue\u001B[39;00m,\n\u001B[1;32m    258\u001B[0m ) \u001B[38;5;241m-\u001B[39m\u001B[38;5;241m>\u001B[39m pl\u001B[38;5;241m.\u001B[39mDataFrame \u001B[38;5;241m|\u001B[39m \u001B[38;5;28mdict\u001B[39m[\u001B[38;5;28mstr\u001B[39m, pl\u001B[38;5;241m.\u001B[39mDataFrame]:\n\u001B[1;32m    259\u001B[0m \u001B[38;5;250m    \u001B[39m\u001B[38;5;124;03m\"\"\"\u001B[39;00m\n\u001B[1;32m    260\u001B[0m \u001B[38;5;124;03m    Read Excel spreadsheet data into a DataFrame.\u001B[39;00m\n\u001B[1;32m    261\u001B[0m \n\u001B[0;32m   (...)\u001B[0m\n\u001B[1;32m    399\u001B[0m \u001B[38;5;124;03m    ... )  # doctest: +SKIP\u001B[39;00m\n\u001B[1;32m    400\u001B[0m \u001B[38;5;124;03m    \"\"\"\u001B[39;00m\n\u001B[0;32m--> 401\u001B[0m     sources, read_multiple_workbooks \u001B[38;5;241m=\u001B[39m _sources(source)\n\u001B[1;32m    402\u001B[0m     frames: \u001B[38;5;28mlist\u001B[39m[pl\u001B[38;5;241m.\u001B[39mDataFrame] \u001B[38;5;241m|\u001B[39m \u001B[38;5;28mlist\u001B[39m[\u001B[38;5;28mdict\u001B[39m[\u001B[38;5;28mstr\u001B[39m, pl\u001B[38;5;241m.\u001B[39mDataFrame]] \u001B[38;5;241m=\u001B[39m [  \u001B[38;5;66;03m# type: ignore[assignment]\u001B[39;00m\n\u001B[1;32m    403\u001B[0m         _read_spreadsheet(\n\u001B[1;32m    404\u001B[0m             src,\n\u001B[0;32m   (...)\u001B[0m\n\u001B[1;32m    420\u001B[0m         \u001B[38;5;28;01mfor\u001B[39;00m src \u001B[38;5;129;01min\u001B[39;00m sources\n\u001B[1;32m    421\u001B[0m     ]\n\u001B[1;32m    422\u001B[0m     \u001B[38;5;28;01mreturn\u001B[39;00m _unpack_read_results(\n\u001B[1;32m    423\u001B[0m         frames\u001B[38;5;241m=\u001B[39mframes,\n\u001B[1;32m    424\u001B[0m         read_multiple_workbooks\u001B[38;5;241m=\u001B[39mread_multiple_workbooks,\n\u001B[1;32m    425\u001B[0m     )\n",
      "File \u001B[0;32m~/miniconda3/lib/python3.12/site-packages/polars/io/spreadsheet/functions.py:71\u001B[0m, in \u001B[0;36m_sources\u001B[0;34m(source)\u001B[0m\n\u001B[1;32m     69\u001B[0m     \u001B[38;5;28;01mif\u001B[39;00m \u001B[38;5;129;01mnot\u001B[39;00m files:\n\u001B[1;32m     70\u001B[0m         msg \u001B[38;5;241m=\u001B[39m \u001B[38;5;124mf\u001B[39m\u001B[38;5;124m\"\u001B[39m\u001B[38;5;124mno workbook found at path \u001B[39m\u001B[38;5;132;01m{\u001B[39;00msrc\u001B[38;5;132;01m!r}\u001B[39;00m\u001B[38;5;124m\"\u001B[39m\n\u001B[0;32m---> 71\u001B[0m         \u001B[38;5;28;01mraise\u001B[39;00m \u001B[38;5;167;01mFileNotFoundError\u001B[39;00m(msg)\n\u001B[1;32m     72\u001B[0m     read_multiple_workbooks \u001B[38;5;241m=\u001B[39m \u001B[38;5;28;01mTrue\u001B[39;00m\n\u001B[1;32m     73\u001B[0m \u001B[38;5;28;01melse\u001B[39;00m:\n",
      "\u001B[0;31mFileNotFoundError\u001B[0m: no workbook found at path 'end_seminar.xlsx'"
     ]
    }
   ],
   "execution_count": 8
  },
  {
   "cell_type": "markdown",
   "metadata": {
    "id": "P0nMQNXCD1IO"
   },
   "source": [
    "Как видим, он достаточно маленький. С такими объёмами выбор библиотеки это чисто вкусовщина. Давайте немного поднимем ставки"
   ]
  },
  {
   "cell_type": "code",
   "metadata": {
    "id": "PzBRfWY1ECOV",
    "ExecuteTime": {
     "end_time": "2025-09-16T16:44:25.348373Z",
     "start_time": "2025-09-16T16:44:25.348303Z"
    }
   },
   "source": [
    "def repeat_df(df: pl.DataFrame | pl.LazyFrame, n: int = 2) -> pl.LazyFrame:\n",
    "    return (\n",
    "        df.lazy()\n",
    "        .select(pl.col(\"timestamp\").unique().sort().repeat_by(n).flatten())\n",
    "        .join(df.lazy(), on=\"timestamp\", how=\"left\")\n",
    "    )"
   ],
   "outputs": [],
   "execution_count": null
  },
  {
   "cell_type": "markdown",
   "metadata": {
    "id": "loouiViPEHGJ"
   },
   "source": [
    "Для работы с датафреймами, которые в память не влезают, нам понадобится объект `pl.LazyFrame`. Он представляет из себя схему выполнения вашего запроса, который оптимизируется, бьётся на батчи и параллелится под капотом через StreamingAPI, что для нас просто идеально. Перевести объект туда можно через метод `lazy`, обратно через `collect`. Учтите, что `streaming=True` работает не со всеми операциями, применяйте с умом, это можно проверить через `pl.LazyFrame.explain(streaming=True)`"
   ]
  },
  {
   "cell_type": "code",
   "metadata": {
    "colab": {
     "base_uri": "https://localhost:8080/"
    },
    "id": "OvTbmiSjEEfA",
    "outputId": "e7ee9391-6337-4d04-fb83-49d6c0914f7d"
   },
   "source": [
    "repeat_n = 2\n",
    "\n",
    "repeated_df = repeat_df(initial_df, repeat_n)\n",
    "print(\"Schema\")\n",
    "print(repeated_df.explain(streaming=True, optimized=True))"
   ],
   "outputs": [],
   "execution_count": null
  },
  {
   "cell_type": "code",
   "metadata": {
    "colab": {
     "base_uri": "https://localhost:8080/"
    },
    "id": "7geBTZI6F691",
    "outputId": "95934f4f-3dee-4abf-d2ac-1055e07d9d8f"
   },
   "source": [
    "# как видим, повторы работают\n",
    "repeated_df = repeated_df.collect()\n",
    "assert repeated_df.shape[0] == initial_df.shape[0] * repeat_n\n",
    "print(repeated_df.shape[0], \"rows\")\n",
    "print(repeated_df.estimated_size(\"mb\"), \"mb\")"
   ],
   "outputs": [],
   "execution_count": null
  },
  {
   "cell_type": "markdown",
   "metadata": {
    "id": "00wHctZJGe8s"
   },
   "source": [
    "Теперь ещё интереснее. Если бы наш датасет был не в 2 раза больше, а в 100000 раз, что бы мы делали? К счастью для нас, поларс может уместить 300кк строк всего лишь в 512Мб, и это даже не прикол, но работать с этим придётся немного иначе"
   ]
  },
  {
   "cell_type": "code",
   "metadata": {
    "colab": {
     "base_uri": "https://localhost:8080/"
    },
    "id": "jm93pikEGqJi",
    "outputId": "6c011e09-e299-48c6-97ad-a95a835e5d38"
   },
   "source": [
    "N = 80000\n",
    "\n",
    "df = repeat_df(initial_df, N)\n",
    "print(initial_df.estimated_size(\"gb\") * N, \"gb\")"
   ],
   "outputs": [],
   "execution_count": null
  },
  {
   "cell_type": "markdown",
   "metadata": {
    "id": "MGMtuNEiG-xH"
   },
   "source": [
    "Поэтому даже такая тривиальная задача, как подсчёт строк становится уже не такой простой. Про это и будет дз"
   ]
  },
  {
   "cell_type": "code",
   "metadata": {
    "colab": {
     "base_uri": "https://localhost:8080/"
    },
    "id": "pKo9lSvnHlgW",
    "outputId": "7b05d5fb-0ab1-4758-b883-433a1e2df805"
   },
   "source": [
    "try:\n",
    "    print(df.shape[0], \"rows\")\n",
    "except AttributeError:\n",
    "    print(\"ой, не получилось...\")\n",
    "\n",
    "# df.collect().shape[0] # тоже можно, если влезет\n",
    "# len(df.collect().to_pandas()) # а такое может крашнуть ядро, попробуйте, хехе..."
   ],
   "outputs": [],
   "execution_count": null
  },
  {
   "cell_type": "code",
   "metadata": {
    "colab": {
     "base_uri": "https://localhost:8080/"
    },
    "id": "mt-cWy3LHhvR",
    "outputId": "2465164c-a86a-4102-f636-90d0e4524e9f"
   },
   "source": [
    "def lazy_len(df: pl.LazyFrame) -> int:\n",
    "    return df.select(pl.len()).collect().item()\n",
    "\n",
    "\n",
    "rows = lazy_len(df)  # намного экономнее, потому что оптимизировано под капотом\n",
    "assert rows == initial_df.shape[0] * N\n",
    "print(rows, \"rows\")"
   ],
   "outputs": [],
   "execution_count": null
  },
  {
   "cell_type": "markdown",
   "source": [
    "Далее нужно работать с увеличенным датафреймом `df`"
   ],
   "metadata": {
    "id": "EVEQn0fwc6_v"
   }
  },
  {
   "cell_type": "markdown",
   "metadata": {
    "id": "JZd3QSTo3JKl"
   },
   "source": [
    "#### 1. [0.5 баллов] Выведите 3 последних строки\n",
    "\n",
    "Посмотрите на данные и скажите, что они из себя представляют, сколько в таблице строк, какие столбцы? (на это не надо отвечать, просто подумайте об этом)"
   ]
  },
  {
   "cell_type": "code",
   "metadata": {
    "id": "FArd5QGESdyO"
   },
   "source": [
    "# your code here"
   ],
   "outputs": [],
   "execution_count": null
  },
  {
   "cell_type": "markdown",
   "metadata": {
    "id": "o74LHRbU3JKl"
   },
   "source": [
    "### Ответьте на вопросы:\n",
    "1. Сколько было уникальных пользователей из групп 22-го года набора, а сколько из групп 21-го года?"
   ]
  },
  {
   "cell_type": "code",
   "metadata": {
    "id": "P8U67LmG3JKm"
   },
   "source": [
    "# your code here"
   ],
   "outputs": [],
   "execution_count": null
  },
  {
   "cell_type": "markdown",
   "source": [
    "2. Есть ли уникальные студенты с равными перцентилями?"
   ],
   "metadata": {
    "id": "nKYih84LTNfe"
   }
  },
  {
   "cell_type": "code",
   "metadata": {
    "id": "VlZxsjoO9964"
   },
   "source": [
    "# your code here"
   ],
   "outputs": [],
   "execution_count": null
  },
  {
   "cell_type": "markdown",
   "metadata": {
    "id": "PObB1agk3JKm"
   },
   "source": [
    "#### 2. [0.5 балла] Есть ли в данных пропуски? В каких колонках? Сколько их в каждой из этих колонок?\n",
    "\n",
    "Уникальных или нет - не столь важно"
   ]
  },
  {
   "cell_type": "code",
   "metadata": {
    "id": "zmMJ5oSi3JKm"
   },
   "source": [
    "# your code here"
   ],
   "outputs": [],
   "execution_count": null
  },
  {
   "cell_type": "markdown",
   "metadata": {
    "id": "H0gva-uD3JKm"
   },
   "source": [
    "🔄 Преобразуйте датасет - заполните пропуски пустой строкой для строковых колонок, нулём для числовых и False для булевых (постарайтесь избежать перечисления названий всех столбцов)."
   ]
  },
  {
   "cell_type": "code",
   "metadata": {
    "id": "1WOBP3Yx3JKm"
   },
   "source": [
    "# your code here\n",
    "df ="
   ],
   "outputs": [],
   "execution_count": null
  },
  {
   "cell_type": "markdown",
   "metadata": {
    "id": "a0TfG6CY3JKn"
   },
   "source": [
    "#### 3. [0.5 балла] Посмотрите повнимательнее на колонку 'is_first_time'.\n",
    "\n",
    "Каково процентное соотношение ответов? Сколько из них \"Нет\"?"
   ]
  },
  {
   "cell_type": "code",
   "metadata": {
    "id": "wGolS2eY3JKn"
   },
   "source": [
    "# your code here"
   ],
   "outputs": [],
   "execution_count": null
  },
  {
   "cell_type": "markdown",
   "source": [
    "Посмотрите на колонку `timestamp` - верно ли, что датафрейм отсортирован по ней?"
   ],
   "metadata": {
    "id": "Renqf_mqekiQ"
   }
  },
  {
   "cell_type": "code",
   "source": [
    "# your code here"
   ],
   "metadata": {
    "id": "pxDzAdErerlx"
   },
   "outputs": [],
   "execution_count": null
  },
  {
   "cell_type": "markdown",
   "metadata": {
    "id": "ffyqq0ilf0pv"
   },
   "source": [
    "🔄 Оставьте только самую позднюю версию обращений студентов, уберите колонку `is_mi` (она нам не пригодится в дальнейшем) и сохраните изменения. Дубли оставлять тоже не нужно"
   ]
  },
  {
   "cell_type": "code",
   "metadata": {
    "id": "kIgPHwvOA0tg"
   },
   "source": [
    "# your code here\n",
    "df ="
   ],
   "outputs": [],
   "execution_count": null
  },
  {
   "cell_type": "markdown",
   "metadata": {
    "id": "EXTt7DAJ3JKn"
   },
   "source": [
    "#### 4. [0.5 балла] Какие  blended-курсы для четверокурсников существуют? На какой blended-курс записалось наибольшее количество студентов? На каком из курсов собрались студенты с самым высоким средним рейтингом?"
   ]
  },
  {
   "cell_type": "code",
   "metadata": {
    "id": "gJ0SzAfheBBi"
   },
   "source": [
    "# your code here"
   ],
   "outputs": [],
   "execution_count": null
  },
  {
   "cell_type": "markdown",
   "metadata": {
    "id": "afbGGxV73JKn"
   },
   "source": [
    "#### 5. [1 балл] Выясните, есть ли студенты с абсолютно одинаковыми предпочтениями по всем курсам.\n",
    "\n",
    "Для этого сформируйте таблицу, где для каждого возможного набора курсов посчитано количество студентов, выбравших такой набор, и оставьте только строки где это количество больше 1.\n",
    "\n",
    "В данном случае набор курсов задается упорядоченным множеством ('fall_1', 'fall_2', 'fall_3', 'spring_1', 'spring_2', 'spring_3', 'blended'). Элемент blended будет нулевым для 3-го курса."
   ]
  },
  {
   "cell_type": "code",
   "metadata": {
    "id": "fNXhoAMw3JKn"
   },
   "source": [
    "# your code here"
   ],
   "outputs": [],
   "execution_count": null
  },
  {
   "cell_type": "markdown",
   "metadata": {
    "id": "JU0vq96o3JKo"
   },
   "source": [
    "#### 6. [0.5 балла] Найдите курсы по выбору, на которые записывались как студенты 22-го года набора, так и студенты 21-го года."
   ]
  },
  {
   "cell_type": "code",
   "metadata": {
    "id": "xIrynPwgesQU"
   },
   "source": [
    "# your code here"
   ],
   "outputs": [],
   "execution_count": null
  },
  {
   "cell_type": "markdown",
   "metadata": {
    "id": "NMkajSaI3JKr"
   },
   "source": [
    "Методом исключения найдите курсы, которые предлагались только студентам 2-го года и только студентам 21-го года."
   ]
  },
  {
   "cell_type": "code",
   "metadata": {
    "id": "enzNaFLP3JKs"
   },
   "source": [
    "# your code here"
   ],
   "outputs": [],
   "execution_count": null
  },
  {
   "cell_type": "markdown",
   "source": [
    "Видите ли вы что-то необычное в получившихся списках? (менять ничего не нужно, просто подумайте)\n",
    "\n",
    "**Ответ:**\n",
    "\n"
   ],
   "metadata": {
    "id": "Lki0e8iJXsNr"
   }
  },
  {
   "cell_type": "markdown",
   "metadata": {
    "id": "c5TmcNdI3JKs"
   },
   "source": [
    "### Визуализации"
   ]
  },
  {
   "cell_type": "markdown",
   "metadata": {
    "id": "74juA0bp3JKs"
   },
   "source": [
    "При работе с данными часто неудобно делать какие-то выводы, если смотреть на таблицу и числа в частности, поэтому важно уметь визуализировать данные. Здесь будут описаны ключевые правила оформления графиков для **всех** домашних заданий.\n",
    "\n",
    "У matplotlib, конечно же, есть [документация](https://matplotlib.org/users/index.html) с большим количеством [примеров](https://matplotlib.org/examples/), но для начала достаточно знать про несколько основных типов графиков:\n",
    "- plot — обычный поточечный график, которым можно изображать кривые или отдельные точки;\n",
    "- hist — гистограмма, показывающая распределение некоторой величины;\n",
    "- scatter — график, показывающий взаимосвязь двух величин;\n",
    "- bar — столбцовый график, показывающий взаимосвязь количественной величины от категориальной.\n",
    "\n",
    "В этом задании вы попробуете построить один из них. Не забывайте про базовые принципы построения приличных графиков:\n",
    "- оси должны быть подписаны, причём не слишком мелко;\n",
    "- у графика должно быть название;\n",
    "- если изображено несколько графиков, то необходима поясняющая легенда;\n",
    "- все линии на графиках должны быть чётко видны (нет похожих цветов или цветов, сливающихся с фоном);\n",
    "- если возможно сделать график интерактивным, это обычно того стоит - помогает решить проблемы с читаемостью;\n",
    "- если отображена величина, имеющая очевидный диапазон значений (например, проценты могут быть от 0 до 100), то желательно масштабировать ось на весь диапазон значений (исключением является случай, когда вам необходимо показать малое отличие, которое незаметно в таких масштабах);\n",
    "- сетка на графике помогает оценить значения в точках на глаз, это обычно полезно, поэтому лучше ее отрисовывать;\n",
    "- если распределение на гистограмме имеет тяжёлые хвосты, лучше использовать логарифмическую шкалу.\n",
    "\n",
    "Еще одна билиотека для визуализации: [seaborn](https://jakevdp.github.io/PythonDataScienceHandbook/04.14-visualization-with-seaborn.html). Это настройка над matplotlib, иногда удобнее и красивее делать визуализации через неё.\n",
    "\n",
    "У `polars` уже есть встроенные инструменты для визуализации, в частности интерактивные на базе [hvplot](https://docs.pola.rs/user-guide/misc/visualization/#plotly) и [altair](https://docs.pola.rs/user-guide/misc/visualization). Из её преимуществ - хорошая производительность при работе с большими данными, есть поддержка самых популярных видов графиков, но синтаксис не самый удобный"
   ]
  },
  {
   "cell_type": "markdown",
   "metadata": {
    "id": "QkH7afPm3JKs"
   },
   "source": [
    "#### 7. [0.5 балла] Постройте график средних рейтингов по дням получения ответов (bar plot)."
   ]
  },
  {
   "cell_type": "code",
   "metadata": {
    "id": "bQ3_dsZP3JKs"
   },
   "source": [
    "# your code here"
   ],
   "outputs": [],
   "execution_count": null
  },
  {
   "cell_type": "markdown",
   "metadata": {
    "id": "bZB_kTE63JKs"
   },
   "source": [
    "Сохраните график в формате pdf (так он останется векторизованным) или html (тогда останется интерактивным)"
   ]
  },
  {
   "cell_type": "code",
   "metadata": {
    "id": "35bHvSsV3JKt"
   },
   "source": [
    "# your code here"
   ],
   "outputs": [],
   "execution_count": null
  },
  {
   "cell_type": "markdown",
   "metadata": {
    "id": "EvWtDBRp3JKt"
   },
   "source": [
    "## 2. Распределение студентов по курсам. (6 баллов + 1 бонус)"
   ]
  },
  {
   "cell_type": "markdown",
   "metadata": {
    "id": "zTPksBGL3JKt"
   },
   "source": [
    "#### **<span style=\"color:red\">‼️ВНИМАТЕЛЬНО ИЗУЧИТЕ ТЕКСТ НИЖЕ‼️</span>.**\n",
    "\n",
    "<span style=\"color:orange\">Если во время выполнения заданий у вас вознинут вопросы -- еще раз перечитайте текст целиком, скорее всего ответы уже содержатся в нем.</span>\n",
    "\n",
    "Теперь вам нужно распределить студентов по осенним курсам по выбору, учитывая их предпочтения."
   ]
  },
  {
   "cell_type": "markdown",
   "metadata": {
    "id": "S5lk67UA3JKt"
   },
   "source": [
    "## 📌 **Алгоритм распределения студентов по курсам**:\n",
    "1. По умолчанию на каждой дисциплине по выбору у 3 и 4 курсов может учиться 1 группа (до 30 студентов). Исключения описаны ниже. На blended-дисциплинах для четверокурсников количество мест не ограничено.\n",
    "2. Проводится первая волна отбора. Для каждой дисциплины формируется список тех, кто указал её первым приоритетом (если студент должен выбрать два курса по выбору, то для него дисциплины, которые он указал первым и вторым приоритетом, рассматриваются как дисциплины первого приоритета). Если желающих больше, чем мест, то выбирается топ по перцентилю рейтинга.\n",
    "3. На дисциплинах, где остались места после первой волны, формируются списки тех, кто выбрал их вторым приоритетом, и места заполняются лучшими по перцентили рейтинга студентами. После этого проводится такая же процедура для дисциплин третьего приоритета.\n",
    "4. Если студент не попал на необходимое количество курсов по итогам трёх волн, с ним связывается учебный офис и решает вопрос в индивидуальном порядке."
   ]
  },
  {
   "cell_type": "markdown",
   "metadata": {
    "id": "Ux4yMPan3JKu"
   },
   "source": [
    "## ☝️ **Обращаем ваше внимание на следующие детали:**\n",
    "\n",
    "- Конкурс на каждый курс общий для 3-го и 4-го курса\n",
    "\n",
    "- По умолчанию студент выбирает один осенний и один весенний курс по выбору, а также четверокурсники выбирают один blended-курс. Студенты групп 21-го года специализаций МОП выбирают по 2 осенних и 2 весенних курса по выбору. <i>Для студентов, которые выбирают 2 курса (например, осенних) первый приоритет — <code>fall_1</code> и <code>fall_2</code>, второй приоритет — <code>fall_3</code>. Такие студенты участвуют только в двух волнах отбора</i>.\n",
    "\n",
    "- Студенты специализации МОП не могут выбрать весенним курсом по выбору Машинное обучение 2. **Если студент специализации МОП выбрал Машинное обучение 2, то его приоритеты сдвигаются.** Из-за совпадений первого и второго курса по выбору двигать приоритеты не надо.\n",
    "\n",
    "- Blended-курсы не трогайте, по ним не надо распределять, на другие курсы они никак не влияют.\n",
    "\n",
    "- Заведомо известно, что в процессе распределения не возникнет ситуации, когда на одно место претендуют студенты с одинаковым перцентилем.\n",
    "\n",
    "- Постарайтесь воздержаться от использования циклов там, где это возможно. <i>Допустимо итерироваться по <b>курсам</b>, на которые проводится отбор, и по <b>волнам</b> отбора. Если вы придумаете, как обойтись и без этих циклов, то можете получить **+1 бонусный балл** к итоговой оценке. <b>Дублирование кода не признается успешным избавлением от циклов</b></i>\n",
    "\n",
    "- На выходе ожидается файл `res_fall.csv` с результатами распределения на осенние курсы по выбору. Файл должен быть следующего формата:\n",
    "\n",
    "    * три столбца: ID, course1, course2\n",
    "    \n",
    "    * Если студент не попал на курс, но должен был, то вместо названия курса в ячейке должна быть строка \"???\"\n",
    "    \n",
    "    * Если студент должен выбрать только один курс, то в колонке course2 для него должна стоять строка \"-\"\n",
    "\n",
    "    * Если студент должен выбрать два курса по выбору, то порядок в колонках course1 и course2 не важен.\n",
    "    \n",
    "    * Формат csv: для сохранения воспользуйтесь `df.write_csv('solution.csv')`"
   ]
  },
  {
   "cell_type": "markdown",
   "source": [
    "Для работы вам могут понадобиться следующие данные:\n",
    "\n",
    "- Результаты опроса (вы уже использовали этот файл в первой части задания, но на всякий случай ссылка: https://www.dropbox.com/scl/fi/2ezfw6b3y1umremflbgdl/end_seminar.xlsx?rlkey=xzecol82ybnpu0eon0b1s11pp&st=f45sugvp&dl=0)\n",
    "\n",
    "- Соответствие номеров групп специализациям:\n",
    "\n",
    "    * 211, 212, 213 - МОП; остальные - не МОП! 👎\n",
    "    \n",
    "    * У студентов 22-го года номера групп соответствуют номерам до распределения по специализациям. Это означает, что по номеру группы 22* нельзя однозначно определить специализацию студента. При этом в рамках распределения важно знать информацию только о МОП. Эти знание можно получить из колонки `is_ml_student`.\n",
    "\n",
    "- Ограничения по количеству мест на курсах по выбору:\n",
    "\n",
    "    * Количественные финансы - 60\n",
    "    * Промышленное программирование на Haskell - 60\n",
    "    * Рекомендательные системы - 60\n",
    "    * Глубинное обучение в обработке звука - 1000 (да да, не удивляйтесь! раньше и не такое было...)\n",
    "\n",
    "\n",
    "Кстати, убедитесь, что в данных больше нет пропусков, повторных записей и лишних колонок"
   ],
   "metadata": {
    "id": "q4b6w14cS_rW"
   }
  },
  {
   "cell_type": "markdown",
   "metadata": {
    "id": "vOVE6Do13JKu"
   },
   "source": [
    "#### 0. Проверка\n",
    "\n",
    "Для начала давайте убедимся, что вы успешно выполнили задания первой части и проверим ваши данные на наличие пропусков и повторов"
   ]
  },
  {
   "cell_type": "code",
   "source": [
    "assert type(df) != pl.LazyFrame and type(df) == pl.DataFrame, \"Датафрейм не собран\"\n",
    "assert df.shape == (418, 15), \"В таблице остались повторы или потеряны данные\"\n",
    "assert df.null_count().sum_horizontal().item() == 0, \"В таблице остались пропуски\""
   ],
   "metadata": {
    "id": "tNeCa71zHEe8"
   },
   "outputs": [],
   "execution_count": null
  },
  {
   "cell_type": "markdown",
   "metadata": {
    "id": "H7qZDN0y3JKu"
   },
   "source": [
    "Если вы не получили `AssertionError`, то можете продолжать."
   ]
  },
  {
   "cell_type": "markdown",
   "metadata": {
    "id": "y81hqcoZ3JKu"
   },
   "source": [
    "#### 1. [1 балл] Создайте новый признак, обозначающий, сколько осенних курсов должен выбрать студент\n",
    "\n",
    "В этом вам может помочь информация о специализации и группе студента."
   ]
  },
  {
   "cell_type": "code",
   "metadata": {
    "id": "ThOnhPTs3JKv"
   },
   "source": [
    "# (￣^￣)ゞ"
   ],
   "outputs": [],
   "execution_count": null
  },
  {
   "cell_type": "markdown",
   "metadata": {
    "id": "hapnRDPU3JKv"
   },
   "source": [
    "Проверка:"
   ]
  },
  {
   "cell_type": "code",
   "metadata": {
    "id": "3qK9-jmP3JKv"
   },
   "source": [
    "col_name = \"\" # insert your new column name as str\n",
    "\n",
    "ids = [\n",
    "    \"bcca318e644999583156ff3ab9de3d6bd02295dcb166e39006568ffe9582207b\",\n",
    "    \"edb64996c64421378537d941a77426a5a7bd84f9967ad9f523ca61386e5469ed\",\n",
    "    \"5f96908e3ce5d84d693ddd79670d60cd1c6a02646aa779f46586a7699dda7c25\",\n",
    "    \"0f137538a170b64258c0e10839cadc325e5f22fc5bb5fa9e20b7351f0a680366\",\n",
    "]\n",
    "assert (\n",
    "    df.filter(pl.col(\"id\").is_in(ids)).sort(\"id\")[col_name] == [2, 1, 1, 1]\n",
    ").all()"
   ],
   "outputs": [],
   "execution_count": null
  },
  {
   "cell_type": "markdown",
   "metadata": {
    "id": "kty-lzOJ3JKv"
   },
   "source": [
    "#### 2. [2 балла] Распределите студентов в соответствии с первым приоритетом"
   ]
  },
  {
   "cell_type": "code",
   "metadata": {
    "id": "l5149AYH3JKv"
   },
   "source": [
    "# (￣^￣)ゞ\n",
    "df_wave_1 ="
   ],
   "outputs": [],
   "execution_count": null
  },
  {
   "cell_type": "markdown",
   "metadata": {
    "id": "YtFzmI0q3JKv"
   },
   "source": [
    "Здесь для проверки приведена таблица, в которой есть 2 дополнительные колонки:\n",
    "    \n",
    "    1) is_first_place - является ли студент лучшим по перцентили хотя бы на одном из курсов, куда он был зачислен\n",
    "    (True / NaN)\n",
    "    \n",
    "    2) is_last_place  - является ли студент худшим по перцентили хотя бы на одном из курсов, куда он был зачислен (True / NaN)"
   ]
  },
  {
   "cell_type": "code",
   "metadata": {
    "id": "Fdmh053Y3JKw"
   },
   "source": [
    "!wget  -O '2_task_check.csv' -q 'https://www.dropbox.com/scl/fi/ixodhpl9xxhdb6a9fqglm/2_task_check.csv?rlkey=53c6ea92rkrz2057tfv7trdxo&st=13lp5ley&dl=0'\n",
    "check_df = pl.read_csv('2_task_check.csv')"
   ],
   "outputs": [],
   "execution_count": null
  },
  {
   "cell_type": "markdown",
   "metadata": {
    "id": "eA-fUDln3JKw"
   },
   "source": [
    "После распределения студентов в соответствии с первым приоритетом добавьте в свой датафрейм аналогичные признаки и запустите проверку:"
   ]
  },
  {
   "cell_type": "code",
   "metadata": {
    "id": "ueNXylC23JKw"
   },
   "source": [
    "fir_col_name =  # insert name of your new column with is_first_place as str\n",
    "last_col_name =  # insert name of your new column with is_last_place as str\n",
    "\n",
    "assert (\n",
    "    check_df.sort(\"id\").select(\"is_first_place\", \"is_last_place\")\n",
    "    == df_wave_1.sort(\"id\").select(fir_col_name, last_col_name)\n",
    ").sum().rows() == [(25, 24)]"
   ],
   "outputs": [],
   "execution_count": null
  },
  {
   "cell_type": "markdown",
   "source": [
    "Важный дисклеймер! У нас в датасете довольно много людей с равными перцентилями, поэтому ассерты могут провалиться, даже если ваш алгоритм правильный, смотря, как вы будете маппить таких людей. Используйте его скорее для отладки и примерного понимания, чего от вас вообще хотят"
   ],
   "metadata": {
    "id": "xOmkMq1Zj5m7"
   }
  },
  {
   "cell_type": "markdown",
   "metadata": {
    "id": "qrPM6dpZ3JKw"
   },
   "source": [
    "#### 3. [2 балла] Проведите все три волны отбора студентов на курсы по выбору"
   ]
  },
  {
   "cell_type": "code",
   "metadata": {
    "id": "G_pKJQHo3JKw",
    "collapsed": true,
    "ExecuteTime": {
     "end_time": "2025-09-16T16:44:25.443424Z",
     "start_time": "2025-09-16T16:44:25.439792Z"
    }
   },
   "source": [
    "# (￣^￣)ゞ"
   ],
   "outputs": [],
   "execution_count": null
  },
  {
   "cell_type": "markdown",
   "metadata": {
    "id": "JgiMyLJz3JKw"
   },
   "source": [
    "**Отправьте свой файл res_fall.csv в контест (будет в ближайшее время, следите за новостями) и прикрепите/укажите ниже ваш никнейм и ссылку на успешную посылку.**"
   ]
  },
  {
   "cell_type": "markdown",
   "metadata": {
    "id": "3za2-Axk3JKw"
   },
   "source": [
    "*Дисклеймер:*\n",
    "\n",
    "Контест выдаётся для самопроверки. Если ваша посылка получила ОК, то код, скорее всего, правильный. Но при этом оценка всё равно может быть снижена в случае обнаружения неэффективностей или ошибок в коде. Если вы сдадите в AnyTask очевидно неработающий код или ноутбук без кода, но при этом в контест будет сдан корректный файл, то это будет расцениваться как плагиат."
   ]
  },
  {
   "cell_type": "markdown",
   "metadata": {
    "id": "jzciJOzo3JKw"
   },
   "source": [
    "На всякий случай просим вас сдать вместе с ноутбуком файл `res_fall.csv` в anytask"
   ]
  },
  {
   "cell_type": "markdown",
   "metadata": {
    "id": "XRHWCteT3JKx"
   },
   "source": [
    "### 4. [1 балл] Распределите таким же образом студентов еще и на весенние курсы по выбору.\n",
    "\n",
    "Если ваш код был хорошо структурирован, то это не составит проблем.\n",
    "\n",
    "Если вы выполнили это задание, сдайте среди прочего файл res_spring.csv в таком же формате, как и res_fall.csv."
   ]
  },
  {
   "cell_type": "code",
   "metadata": {
    "id": "8hDYJoMO3JKx",
    "ExecuteTime": {
     "end_time": "2025-09-16T16:44:25.454235Z",
     "start_time": "2025-09-16T16:44:25.450315Z"
    }
   },
   "source": [
    "# (￣^'￣)ゞ"
   ],
   "outputs": [],
   "execution_count": null
  },
  {
   "cell_type": "markdown",
   "metadata": {
    "id": "xw9tt9dH3JKx"
   },
   "source": [
    "**Отправьте свой файл res_spring.csv в контест (будет в ближайшее время, следите за новостями) и прикрепите/укажите ниже ваш никнейм и ссылку на успешную посылку.**"
   ]
  },
  {
   "cell_type": "markdown",
   "metadata": {
    "id": "7aB4Q1fs3JKx"
   },
   "source": [
    "На всякий случай просим вас сдать вместе с ноутбуком файл `res_spring.csv` в anytask"
   ]
  },
  {
   "cell_type": "markdown",
   "metadata": {
    "id": "M1LivaOx3JKx"
   },
   "source": [
    "Вставьте картинку, описывающую ваш опыт выполнения этого задания:"
   ]
  }
 ],
 "metadata": {
  "colab": {
   "provenance": []
  },
  "kernelspec": {
   "display_name": "Python 3",
   "language": "python",
   "name": "python3"
  },
  "language_info": {
   "codemirror_mode": {
    "name": "ipython",
    "version": 3
   },
   "file_extension": ".py",
   "mimetype": "text/x-python",
   "name": "python",
   "nbconvert_exporter": "python",
   "pygments_lexer": "ipython3",
   "version": "3.10.13"
  }
 },
 "nbformat": 4,
 "nbformat_minor": 0
}
